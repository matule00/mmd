{
  "nbformat": 4,
  "nbformat_minor": 0,
  "metadata": {
    "colab": {
      "provenance": [],
      "collapsed_sections": [
        "7mFA1ukQ7drP"
      ],
      "toc_visible": true,
      "authorship_tag": "ABX9TyP1a5UAoxYxwoxOB6pRHiIa",
      "include_colab_link": true
    },
    "kernelspec": {
      "name": "python3",
      "display_name": "Python 3"
    },
    "language_info": {
      "name": "python"
    }
  },
  "cells": [
    {
      "cell_type": "markdown",
      "metadata": {
        "id": "view-in-github",
        "colab_type": "text"
      },
      "source": [
        "<a href=\"https://colab.research.google.com/github/matule00/mmd/blob/main/mmd_2.ipynb\" target=\"_parent\"><img src=\"https://colab.research.google.com/assets/colab-badge.svg\" alt=\"Open In Colab\"/></a>"
      ]
    },
    {
      "cell_type": "code",
      "source": [
        "import numpy as np\n",
        "\n",
        "class TASEP:\n",
        "    def __init__(self, N, L, p, gamma):\n",
        "        \"\"\"\n",
        "        Initialize the TASEP simulation with given parameters.\n",
        "\n",
        "        Args:\n",
        "            N (int): Number of cars.\n",
        "            L (int): Number of cells in the road.\n",
        "            p (float): Probability of moving forward for the lead car.\n",
        "            gamma (float): Attractive force parameter for following cars.\n",
        "        \"\"\"\n",
        "        self.N = N  # Number of cars\n",
        "        self.L = L  # Number of cells in the road\n",
        "        self.p = p  # Probability of moving forward\n",
        "        self.gamma = gamma  # Attractive force parameter\n",
        "        self.iteration = 0  # Iteration counter\n",
        "        self.first_move = 0\n",
        "\n",
        "        # Initialize the road with empty cells\n",
        "        self.road = np.zeros(self.L, dtype=int)\n",
        "        # Place cars randomly on the road\n",
        "        positions = np.random.choice(self.L, self.N, replace=False)\n",
        "        self.road[positions] = 1\n",
        "\n",
        "    def step(self): # Perform one step of the TASEP simulation.\n",
        "        car_moved = False  # Flag to track if the lead car has moved\n",
        "        '''\n",
        "        In case of moving last car in the first step, we must adjust the range of\n",
        "        for cyclus in order to prevent moving it twice – again at the end of the cyclus\n",
        "        '''\n",
        "        if self.road[self.L-1] == 1 and self.road[0] == 0 and np.random.rand() < self.p:\n",
        "            self.road[0] = 1\n",
        "            self.road[self.L-1] = 0\n",
        "            self.first_move = 1\n",
        "            car_moved = True\n",
        "            for i in range(self.L - 2, 0, -1):  # Iterate from right to left\n",
        "                if self.road[i] == 1 and self.road[i+1] == 0 and not car_moved:\n",
        "                    if np.random.rand() < self.p:  # Move forward with probability p\n",
        "                        self.road[i+1] = 1\n",
        "                        self.road[i] = 0\n",
        "                        car_moved = True\n",
        "                elif self.road[i] == 1 and self.road[i+1] == 0 and car_moved:\n",
        "                  if np.random.rand() < (1 + self.gamma)*self.p:  # Follow with probability (1 + gamma) * p\n",
        "                        self.road[i+1] = 1\n",
        "                        self.road[i] = 0\n",
        "                        car_moved = True\n",
        "                  else:\n",
        "                    car_moved = False\n",
        "                else: # If there is no car to move, there was no move forward\n",
        "                  car_moved = False\n",
        "        else:\n",
        "            for i in range(self.L - 2, -1, -1):  # Iterate from right to left\n",
        "                if self.road[i] == 1 and self.road[i+1] == 0 and not car_moved:\n",
        "                    if np.random.rand() < self.p:  # Move forward with probability p\n",
        "                        self.road[i+1] = 1\n",
        "                        self.road[i] = 0\n",
        "                        car_moved = True\n",
        "                elif self.road[i] == 1 and self.road[i+1] == 0 and car_moved:\n",
        "                  if np.random.rand() < (1 + self.gamma)*self.p:  # Follow with probability (1 + gamma) * p\n",
        "                        self.road[i+1] = 1\n",
        "                        self.road[i] = 0\n",
        "                        car_moved = True\n",
        "                  else:\n",
        "                    car_moved = False\n",
        "                else: # If there is no car to move, there was no move forward\n",
        "                  car_moved = False\n",
        "        self.iteration += 1 # Increment iteration counter\n",
        "\n",
        "    def display(self):  # Display the current state of the road.\n",
        "        print(f'Iteration num. {self.iteration}: ' + ''.join(map(str, self.road)))"
      ],
      "metadata": {
        "id": "T2vBPHiyCk_z"
      },
      "execution_count": 48,
      "outputs": []
    },
    {
      "cell_type": "code",
      "source": [
        "N = 50  # Number of cars\n",
        "L = 200  # Number of cells in the road\n",
        "p = 0.5  # Probability of moving forward for the lead car\n",
        "gamma = -0.2  # Attractive force parameter\n",
        "\n",
        "tasep = TASEP(N, L, p, gamma)\n",
        "for _ in range(9):\n",
        "    tasep.step()\n",
        "    tasep.display()"
      ],
      "metadata": {
        "id": "r-SyudzLOw3h",
        "outputId": "da23000e-085f-4666-d5ef-2fbf7b2d95a4",
        "colab": {
          "base_uri": "https://localhost:8080/"
        }
      },
      "execution_count": 43,
      "outputs": [
        {
          "output_type": "stream",
          "name": "stdout",
          "text": [
            "Iteration num. 1: 00010100100010100000000110000100010101101100010000001001000110101001010010100110000010110001000101111001000001000100000000001010000000000010000000000000000010000001000010000000000000000000010000111010\n",
            "Iteration num. 2: 00010100100010010000000110000010001101101100010000001000100110100101001010100110000010110000100101110100100000100010000000000110000000000001000000000000000001000001000010000000000000000000010000111010\n",
            "Iteration num. 3: 00001100100010010000000110000010000111101010001000001000010101010011001001100101000001011000010101110010010000010010000000000011000000000000100000000000000000100001000010000000000000000000001000110101\n",
            "Iteration num. 4: 10000110100010010000000101000001000111010101001000000100010101010001101001010010100001010100010101101010001000010010000000000011000000000000010000000000000000100001000010000000000000000000000100110100\n",
            "Iteration num. 5: 01000110010001010000000101000001000101110101001000000010001100101000110101001001100000110100001011101010001000001010000000000010100000000000010000000000000000010001000001000000000000000000000100110100\n",
            "Iteration num. 6: 01000110001001001000000011000000100101011011000100000010001100100100110010101001100000011100000111010110001000000101000000000010010000000000010000000000000000010000100001000000000000000000000010110010\n",
            "Iteration num. 7: 01000011000100101000000001100000100010111011000010000010001100100010101001010101010000011010000011110110001000000101000000000010010000000000010000000000000000001000100000100000000000000000000001110010\n",
            "Iteration num. 8: 00100011000100101000000001100000100001110110100010000001001100010001011000101101010000001101000011110011001000000011000000000010010000000000010000000000000000001000010000100000000000000000000001110010\n",
            "Iteration num. 9: 00010011000010100100000001010000100001101110010001000001001100010000101100011101001000001100100010111011000100000001100000000001010000000000001000000000000000001000001000010000000000000000000001011010\n"
          ]
        }
      ]
    },
    {
      "cell_type": "code",
      "source": [
        "import numpy as np\n",
        "import matplotlib.pyplot as plt\n",
        "\n",
        "# Density range\n",
        "density_range = np.linspace(0.1, 1.0, 20)\n",
        "\n",
        "# Lists to store density and flow data\n",
        "densities = []\n",
        "flows = []\n",
        "\n",
        "# Run simulation for different densities\n",
        "for density in density_range:\n",
        "    num_cars = int(density * L)\n",
        "    tasep = TASEP(num_cars, L, p, gamma)\n",
        "\n",
        "    # Let the simulation reach steady state\n",
        "    for _ in range(1000):\n",
        "        tasep.step()\n",
        "\n",
        "    # Measure flow (number of cars passing a specific point per unit time)\n",
        "    flow = 0\n",
        "    for _ in range(1000):\n",
        "        tasep.step()\n",
        "        if tasep.first_move == 1:\n",
        "          flow += 1\n",
        "\n",
        "    # Normalize flow by time and add to lists\n",
        "    normalized_flow = flow\n",
        "    densities.append(density)\n",
        "    flows.append(normalized_flow)\n",
        "\n",
        "# Plot fundamental diagram\n",
        "plt.plot(densities, flows)\n",
        "plt.xlabel('Density of cars')\n",
        "plt.ylabel('Flow')\n",
        "plt.title('Fundamental Diagram of TASEP Model')\n",
        "plt.grid(True)\n",
        "plt.show()"
      ],
      "metadata": {
        "id": "NiDwwxVyYQIB",
        "outputId": "108389bb-640b-472f-dc86-be8d2ba74953",
        "colab": {
          "base_uri": "https://localhost:8080/",
          "height": 472
        }
      },
      "execution_count": 50,
      "outputs": [
        {
          "output_type": "display_data",
          "data": {
            "text/plain": [
              "<Figure size 640x480 with 1 Axes>"
            ],
            "image/png": "[encoded data removed]"
          },
          "metadata": {}
        }
      ]
    }
  ]
}